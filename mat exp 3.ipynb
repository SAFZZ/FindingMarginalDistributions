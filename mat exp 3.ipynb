{
 "cells": [
  {
   "cell_type": "code",
   "execution_count": 1,
   "metadata": {},
   "outputs": [
    {
     "name": "stdout",
     "output_type": "stream",
     "text": [
      "The coefficient-correlation -0.1658\n"
     ]
    }
   ],
   "source": [
    "import numpy as np \n",
    "import math\n",
    "\n",
    "x=[0,1,2,3,4,5]\n",
    "y=[0,1,2,3]\n",
    "p=[[0,0.01,0.03,0.05,0.07,0.09],[0.01,0.02,0.04,0.05,0.06,0.08],[0.01,0.03,0.05,0.05,0.05,0.06],[0.01,0.02,0.04,0.06,0.06,0.05]]\n",
    "\n",
    "px=np.sum(p,axis=0)\n",
    "py=np.sum(p,axis=1)\n",
    "Ex=np.inner(x,px)\n",
    "Ey=np.inner(y,py)\n",
    "px\n",
    "py\n",
    "Ex\n",
    "Ey\n",
    "Ex2=np.inner(np.square(x),px)\n",
    "Ex2\n",
    "Ey2=np.inner(np.square(y),py)\n",
    "Ey2\n",
    "vx=Ex2-Ex**2\n",
    "vx\n",
    "vy=Ey2-Ey**2\n",
    "vy\n",
    "sx=math.sqrt(vx)\n",
    "sy=math.sqrt(vy)\n",
    "Exy=0\n",
    "for i in range(4):\n",
    "    for j in range(6):\n",
    "        Exy=Exy+x[j]*y[i]*p[i][j]\n",
    "Exy\n",
    "Cov=Exy-Ex*Ey\n",
    "Cov\n",
    "r=Cov/(sx*sy)\n",
    "r\n",
    "print(\"The coefficient-correlation %0.4f\"%r)"
   ]
  },
  {
   "cell_type": "code",
   "execution_count": null,
   "metadata": {},
   "outputs": [],
   "source": []
  }
 ],
 "metadata": {
  "kernelspec": {
   "display_name": "Python 3",
   "language": "python",
   "name": "python3"
  },
  "language_info": {
   "codemirror_mode": {
    "name": "ipython",
    "version": 3
   },
   "file_extension": ".py",
   "mimetype": "text/x-python",
   "name": "python",
   "nbconvert_exporter": "python",
   "pygments_lexer": "ipython3",
   "version": "3.8.5"
  }
 },
 "nbformat": 4,
 "nbformat_minor": 4
}
